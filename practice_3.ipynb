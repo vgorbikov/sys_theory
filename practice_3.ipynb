{
  "nbformat": 4,
  "nbformat_minor": 0,
  "metadata": {
    "colab": {
      "provenance": [],
      "authorship_tag": "ABX9TyNh1QDI3Rm7HdE/qE/xphJw",
      "include_colab_link": true
    },
    "kernelspec": {
      "name": "python3",
      "display_name": "Python 3"
    },
    "language_info": {
      "name": "python"
    }
  },
  "cells": [
    {
      "cell_type": "markdown",
      "metadata": {
        "id": "view-in-github",
        "colab_type": "text"
      },
      "source": [
        "<a href=\"https://colab.research.google.com/github/vgorbikov/sys_theory/blob/main/practice_3.ipynb\" target=\"_parent\"><img src=\"https://colab.research.google.com/assets/colab-badge.svg\" alt=\"Open In Colab\"/></a>"
      ]
    },
    {
      "cell_type": "markdown",
      "source": [
        "#Вариант 8\n",
        "## Условие\n",
        "Нефтяная компания «РТ» для улучшения эксплуатационных качеств и снижения точки замораживания дизельного топлива, которое она производит, добавляет в него определенные химикаты. В каждом бензобаке объемом 1000 л должно содержаться *не менее 40 мг* химической добавки **X**, *не менее 14 мг* химической добавки **Y** и *не менее 18 мг* химической добавки **Z**. Необходимые химические добавки в форме готовых смесей поставляют «РТ» две химические компании А и В. В табл. 3.8 приведено содержание химических добавок в каждом продукте, поставляемом указанными компаниями.\n",
        "\n",
        "### Таблица содержания добавок в продуктах (мг/л):\n",
        "**Химические добавки, мг/л**\n",
        "\n",
        "Продукт |X    |Y    |Z\n",
        ":------:|-----|-----|----\n",
        "**A**   |4\t  |2\t  |3\n",
        "**B**   |5\t  |1\t  |1\n",
        "\n",
        "### Стоимость продуктов:\n",
        "- Продукт **A**: 1,50 ф. ст. за 1 л\n",
        "- Продукт **В**: 3,00 ф. ст. за 1 л\n",
        "\n",
        "### Цель задачи:\n",
        "Найти такой ассортимент продуктов А и В, который минимизирует общую стоимость добавленных в топливо химикатов, при соблюдении требуемых условий по минимальному содержанию каждой добавки."
      ],
      "metadata": {
        "id": "F2Id9iUojtr4"
      }
    },
    {
      "cell_type": "markdown",
      "source": [
        "## Решение\n",
        "\n",
        "### Математическая модель\n",
        "\n",
        "Нам необходимо минимизировать *стоимость*. Её можно найти по следующей формуле:\n",
        "$$S = 1,5x_a + 3x_b$$\n",
        "Тут $x_a$ - количество (в литрах) закупленного продукта A, $x_b$ - количество закупленного продукта B.\n",
        "\n",
        "При этом, из требований к концентрации имеющихся в смесях химических добавок, мы получаем следующие ограничения:\n",
        "$$4x_a +  5x_b \\ge 40$$\n",
        "$$2x_a + 1x_b \\ge 14$$\n",
        "$$3x_a + 1x_b \\ge 18$$\n",
        "\n",
        "На Python решим simplex-методом:\n",
        "\n"
      ],
      "metadata": {
        "id": "6eam9ohdp1pc"
      }
    },
    {
      "cell_type": "code",
      "execution_count": 15,
      "metadata": {
        "colab": {
          "base_uri": "https://localhost:8080/"
        },
        "id": "NpNhtnNAOvca",
        "outputId": "50eae637-d2de-4cc6-ed90-86dfd1e32d25"
      },
      "outputs": [
        {
          "output_type": "stream",
          "name": "stdout",
          "text": [
            "Количество реагента A (литров): 10.0\n",
            "Количество реагента B (литров): 0.0\n",
            "Общая стоимость (фунтов стерлингов): 15.0\n"
          ]
        }
      ],
      "source": [
        "from scipy.optimize import linprog\n",
        "import numpy as np\n",
        "\n",
        "# коэффициенты целевой функции\n",
        "targetf_coefficients = np.array([1.5, 3])\n",
        "\n",
        "# коэффициенты для ограничений умножаем берём с обратным знаком, т.к они ограничивают область снизу\n",
        "limitation_coefficients = -1*np.array([[4, 5], [2, 1], [3, 1]])\n",
        "limitation_values = -1*np.array([40, 14, 18])\n",
        "\n",
        "xa_bounds = (0, None)\n",
        "xb_bounds = (0, None)\n",
        "\n",
        "result = linprog(targetf_coefficients,\n",
        "                 A_ub=limitation_coefficients,\n",
        "                 b_ub=limitation_values,\n",
        "                 bounds=[xa_bounds, xb_bounds],\n",
        "                 method='highs')\n",
        "\n",
        "if result.success:\n",
        "    print(f'Количество реагента A (литров): {result.x[0]}')\n",
        "    print(f'Количество реагента B (литров): {result.x[1]}')\n",
        "    print(f'Общая стоимость (фунтов стерлингов): {result.fun}')\n",
        "else:\n",
        "    print('Задача не имеет решения')"
      ]
    },
    {
      "cell_type": "markdown",
      "source": [
        "## Выводы\n",
        "\n",
        "Для своих целей компания \"PT\" может закупать раствор исключительно у компании A.\n",
        "\n",
        "Вероятно, если уточнить требования к концентрации химикатов в растворе, указав также верхний предел концентраций, задача имела бы более интересное решение.\n"
      ],
      "metadata": {
        "id": "kVhTvQYoA1CQ"
      }
    }
  ]
}